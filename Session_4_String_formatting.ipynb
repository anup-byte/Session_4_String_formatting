{
 "cells": [
  {
   "cell_type": "code",
   "execution_count": null,
   "id": "74dc6abb",
   "metadata": {},
   "outputs": [],
   "source": [
    "#Type Casting or Type Conversion"
   ]
  },
  {
   "cell_type": "code",
   "execution_count": 1,
   "id": "942ca081",
   "metadata": {},
   "outputs": [
    {
     "name": "stdout",
     "output_type": "stream",
     "text": [
      "100\n",
      "<class 'int'>\n"
     ]
    }
   ],
   "source": [
    "a = 100\n",
    "print(a)\n",
    "print(type(a))"
   ]
  },
  {
   "cell_type": "code",
   "execution_count": 4,
   "id": "bdf9ba55",
   "metadata": {},
   "outputs": [
    {
     "data": {
      "text/plain": [
       "100.0"
      ]
     },
     "execution_count": 4,
     "metadata": {},
     "output_type": "execute_result"
    }
   ],
   "source": [
    "float(100)"
   ]
  },
  {
   "cell_type": "code",
   "execution_count": 5,
   "id": "40250606",
   "metadata": {},
   "outputs": [
    {
     "data": {
      "text/plain": [
       "float"
      ]
     },
     "execution_count": 5,
     "metadata": {},
     "output_type": "execute_result"
    }
   ],
   "source": [
    "type(56.67)"
   ]
  },
  {
   "cell_type": "code",
   "execution_count": 6,
   "id": "52f02954",
   "metadata": {},
   "outputs": [
    {
     "data": {
      "text/plain": [
       "56"
      ]
     },
     "execution_count": 6,
     "metadata": {},
     "output_type": "execute_result"
    }
   ],
   "source": [
    "int(56.67)"
   ]
  },
  {
   "cell_type": "code",
   "execution_count": 7,
   "id": "93f9936a",
   "metadata": {},
   "outputs": [
    {
     "data": {
      "text/plain": [
       "'45'"
      ]
     },
     "execution_count": 7,
     "metadata": {},
     "output_type": "execute_result"
    }
   ],
   "source": [
    "str(45)"
   ]
  },
  {
   "cell_type": "code",
   "execution_count": 8,
   "id": "4881d6f9",
   "metadata": {},
   "outputs": [
    {
     "data": {
      "text/plain": [
       "str"
      ]
     },
     "execution_count": 8,
     "metadata": {},
     "output_type": "execute_result"
    }
   ],
   "source": [
    "type(str(45))"
   ]
  },
  {
   "cell_type": "code",
   "execution_count": 9,
   "id": "bd773a16",
   "metadata": {},
   "outputs": [
    {
     "ename": "NameError",
     "evalue": "name 'mango' is not defined",
     "output_type": "error",
     "traceback": [
      "\u001b[0;31m---------------------------------------------------------------------------\u001b[0m",
      "\u001b[0;31mNameError\u001b[0m                                 Traceback (most recent call last)",
      "Cell \u001b[0;32mIn[9], line 1\u001b[0m\n\u001b[0;32m----> 1\u001b[0m \u001b[38;5;28mint\u001b[39m(\u001b[43mmango\u001b[49m)\n",
      "\u001b[0;31mNameError\u001b[0m: name 'mango' is not defined"
     ]
    }
   ],
   "source": [
    "int(mango)"
   ]
  },
  {
   "cell_type": "code",
   "execution_count": 10,
   "id": "4ad19dfe",
   "metadata": {},
   "outputs": [
    {
     "ename": "ValueError",
     "evalue": "invalid literal for int() with base 10: 'mango'",
     "output_type": "error",
     "traceback": [
      "\u001b[0;31m---------------------------------------------------------------------------\u001b[0m",
      "\u001b[0;31mValueError\u001b[0m                                Traceback (most recent call last)",
      "Cell \u001b[0;32mIn[10], line 1\u001b[0m\n\u001b[0;32m----> 1\u001b[0m \u001b[38;5;28;43mint\u001b[39;49m\u001b[43m(\u001b[49m\u001b[38;5;124;43m'\u001b[39;49m\u001b[38;5;124;43mmango\u001b[39;49m\u001b[38;5;124;43m'\u001b[39;49m\u001b[43m)\u001b[49m\n",
      "\u001b[0;31mValueError\u001b[0m: invalid literal for int() with base 10: 'mango'"
     ]
    }
   ],
   "source": [
    "int('mango')"
   ]
  },
  {
   "cell_type": "code",
   "execution_count": 12,
   "id": "993e7530",
   "metadata": {},
   "outputs": [
    {
     "ename": "ValueError",
     "evalue": "invalid literal for int() with base 10: '23gtree'",
     "output_type": "error",
     "traceback": [
      "\u001b[0;31m---------------------------------------------------------------------------\u001b[0m",
      "\u001b[0;31mValueError\u001b[0m                                Traceback (most recent call last)",
      "Cell \u001b[0;32mIn[12], line 1\u001b[0m\n\u001b[0;32m----> 1\u001b[0m \u001b[38;5;28;43mint\u001b[39;49m\u001b[43m(\u001b[49m\u001b[38;5;124;43m\"\u001b[39;49m\u001b[38;5;124;43m23gtree\u001b[39;49m\u001b[38;5;124;43m\"\u001b[39;49m\u001b[43m)\u001b[49m\n",
      "\u001b[0;31mValueError\u001b[0m: invalid literal for int() with base 10: '23gtree'"
     ]
    }
   ],
   "source": [
    "int(\"23gtree\")"
   ]
  },
  {
   "cell_type": "code",
   "execution_count": 11,
   "id": "f3b03bf7",
   "metadata": {},
   "outputs": [
    {
     "data": {
      "text/plain": [
       "str"
      ]
     },
     "execution_count": 11,
     "metadata": {},
     "output_type": "execute_result"
    }
   ],
   "source": [
    "type(\"23gtree\")"
   ]
  },
  {
   "cell_type": "code",
   "execution_count": 13,
   "id": "9b43dab7",
   "metadata": {},
   "outputs": [
    {
     "data": {
      "text/plain": [
       "'43.87'"
      ]
     },
     "execution_count": 13,
     "metadata": {},
     "output_type": "execute_result"
    }
   ],
   "source": [
    "str(43.87)"
   ]
  },
  {
   "cell_type": "code",
   "execution_count": 14,
   "id": "67b97c9c",
   "metadata": {},
   "outputs": [
    {
     "data": {
      "text/plain": [
       "list"
      ]
     },
     "execution_count": 14,
     "metadata": {},
     "output_type": "execute_result"
    }
   ],
   "source": [
    "a = [1,2,3,4]\n",
    "type(a)"
   ]
  },
  {
   "cell_type": "code",
   "execution_count": 15,
   "id": "face674a",
   "metadata": {},
   "outputs": [
    {
     "name": "stdout",
     "output_type": "stream",
     "text": [
      "<class 'set'>\n"
     ]
    }
   ],
   "source": [
    "s = set(a)\n",
    "print(type(s))"
   ]
  },
  {
   "cell_type": "code",
   "execution_count": 17,
   "id": "91dca094",
   "metadata": {},
   "outputs": [
    {
     "data": {
      "text/plain": [
       "set"
      ]
     },
     "execution_count": 17,
     "metadata": {},
     "output_type": "execute_result"
    }
   ],
   "source": [
    "s1 = {10, 20 ,30}\n",
    "type(s1)"
   ]
  },
  {
   "cell_type": "code",
   "execution_count": 18,
   "id": "2adad9af",
   "metadata": {},
   "outputs": [
    {
     "name": "stdout",
     "output_type": "stream",
     "text": [
      "<class 'list'>\n"
     ]
    }
   ],
   "source": [
    "l1 = list(s1)\n",
    "print(type(l1))"
   ]
  },
  {
   "cell_type": "code",
   "execution_count": 19,
   "id": "07a06942",
   "metadata": {},
   "outputs": [
    {
     "data": {
      "text/plain": [
       "['s', 'a', 't', 'u', 'r', 'd', 'a', 'y']"
      ]
     },
     "execution_count": 19,
     "metadata": {},
     "output_type": "execute_result"
    }
   ],
   "source": [
    "list(\"saturday\")"
   ]
  },
  {
   "cell_type": "code",
   "execution_count": 20,
   "id": "69ab423d",
   "metadata": {},
   "outputs": [],
   "source": [
    "t1 = (1,2,3,4,4,6,8,8)"
   ]
  },
  {
   "cell_type": "code",
   "execution_count": 21,
   "id": "219aca2e",
   "metadata": {},
   "outputs": [
    {
     "data": {
      "text/plain": [
       "{1, 2, 3, 4, 6, 8}"
      ]
     },
     "execution_count": 21,
     "metadata": {},
     "output_type": "execute_result"
    }
   ],
   "source": [
    "set(t1)"
   ]
  },
  {
   "cell_type": "code",
   "execution_count": 22,
   "id": "6ad696e0",
   "metadata": {},
   "outputs": [
    {
     "data": {
      "text/plain": [
       "10"
      ]
     },
     "execution_count": 22,
     "metadata": {},
     "output_type": "execute_result"
    }
   ],
   "source": [
    "#concatenation\n",
    "4 + 6"
   ]
  },
  {
   "cell_type": "code",
   "execution_count": 23,
   "id": "67ace26a",
   "metadata": {},
   "outputs": [
    {
     "data": {
      "text/plain": [
       "11.780000000000001"
      ]
     },
     "execution_count": 23,
     "metadata": {},
     "output_type": "execute_result"
    }
   ],
   "source": [
    "5 + 6.78"
   ]
  },
  {
   "cell_type": "code",
   "execution_count": 24,
   "id": "c88c2083",
   "metadata": {},
   "outputs": [
    {
     "ename": "TypeError",
     "evalue": "unsupported operand type(s) for +: 'int' and 'str'",
     "output_type": "error",
     "traceback": [
      "\u001b[0;31m---------------------------------------------------------------------------\u001b[0m",
      "\u001b[0;31mTypeError\u001b[0m                                 Traceback (most recent call last)",
      "Cell \u001b[0;32mIn[24], line 1\u001b[0m\n\u001b[0;32m----> 1\u001b[0m \u001b[38;5;241;43m1\u001b[39;49m\u001b[43m \u001b[49m\u001b[38;5;241;43m+\u001b[39;49m\u001b[43m \u001b[49m\u001b[38;5;124;43m\"\u001b[39;49m\u001b[38;5;124;43mone\u001b[39;49m\u001b[38;5;124;43m\"\u001b[39;49m\n",
      "\u001b[0;31mTypeError\u001b[0m: unsupported operand type(s) for +: 'int' and 'str'"
     ]
    }
   ],
   "source": [
    "1 + \"one\""
   ]
  },
  {
   "cell_type": "code",
   "execution_count": 25,
   "id": "6cc1ac30",
   "metadata": {},
   "outputs": [
    {
     "data": {
      "text/plain": [
       "'1one'"
      ]
     },
     "execution_count": 25,
     "metadata": {},
     "output_type": "execute_result"
    }
   ],
   "source": [
    "str(1) + \"one\""
   ]
  },
  {
   "cell_type": "code",
   "execution_count": 26,
   "id": "b37eb68b",
   "metadata": {},
   "outputs": [
    {
     "ename": "ValueError",
     "evalue": "invalid literal for int() with base 10: 'one'",
     "output_type": "error",
     "traceback": [
      "\u001b[0;31m---------------------------------------------------------------------------\u001b[0m",
      "\u001b[0;31mValueError\u001b[0m                                Traceback (most recent call last)",
      "Cell \u001b[0;32mIn[26], line 1\u001b[0m\n\u001b[0;32m----> 1\u001b[0m \u001b[38;5;241m1\u001b[39m \u001b[38;5;241m+\u001b[39m \u001b[38;5;28;43mint\u001b[39;49m\u001b[43m(\u001b[49m\u001b[38;5;124;43m\"\u001b[39;49m\u001b[38;5;124;43mone\u001b[39;49m\u001b[38;5;124;43m\"\u001b[39;49m\u001b[43m)\u001b[49m\n",
      "\u001b[0;31mValueError\u001b[0m: invalid literal for int() with base 10: 'one'"
     ]
    }
   ],
   "source": [
    "1 + int(\"one\")"
   ]
  },
  {
   "cell_type": "code",
   "execution_count": 32,
   "id": "a6b05026",
   "metadata": {},
   "outputs": [
    {
     "ename": "TypeError",
     "evalue": "unsupported operand type(s) for +: 'int' and 'str'",
     "output_type": "error",
     "traceback": [
      "\u001b[0;31m---------------------------------------------------------------------------\u001b[0m",
      "\u001b[0;31mTypeError\u001b[0m                                 Traceback (most recent call last)",
      "Cell \u001b[0;32mIn[32], line 1\u001b[0m\n\u001b[0;32m----> 1\u001b[0m \u001b[38;5;241;43m1\u001b[39;49m\u001b[43m \u001b[49m\u001b[38;5;241;43m+\u001b[39;49m\u001b[43m \u001b[49m\u001b[38;5;124;43m\"\u001b[39;49m\u001b[38;5;124;43mone\u001b[39;49m\u001b[38;5;124;43m\"\u001b[39;49m\n",
      "\u001b[0;31mTypeError\u001b[0m: unsupported operand type(s) for +: 'int' and 'str'"
     ]
    }
   ],
   "source": [
    "1 + \"one\""
   ]
  },
  {
   "cell_type": "code",
   "execution_count": 28,
   "id": "f7384cb8",
   "metadata": {},
   "outputs": [
    {
     "data": {
      "text/plain": [
       "'MangoPineapple'"
      ]
     },
     "execution_count": 28,
     "metadata": {},
     "output_type": "execute_result"
    }
   ],
   "source": [
    "\"Mango\" + \"Pineapple\""
   ]
  },
  {
   "cell_type": "code",
   "execution_count": 29,
   "id": "eb147f49",
   "metadata": {},
   "outputs": [
    {
     "data": {
      "text/plain": [
       "'Mango Pineapple'"
      ]
     },
     "execution_count": 29,
     "metadata": {},
     "output_type": "execute_result"
    }
   ],
   "source": [
    "\"Mango\" + ' ' + \"Pineapple\""
   ]
  },
  {
   "cell_type": "code",
   "execution_count": 30,
   "id": "e3bd6ddd",
   "metadata": {},
   "outputs": [
    {
     "data": {
      "text/plain": [
       "'Mango Pineapple'"
      ]
     },
     "execution_count": 30,
     "metadata": {},
     "output_type": "execute_result"
    }
   ],
   "source": [
    "\"Mango\" + \" Pineapple\""
   ]
  },
  {
   "cell_type": "code",
   "execution_count": 31,
   "id": "49196c36",
   "metadata": {},
   "outputs": [
    {
     "data": {
      "text/plain": [
       "'Mango Pineapple'"
      ]
     },
     "execution_count": 31,
     "metadata": {},
     "output_type": "execute_result"
    }
   ],
   "source": [
    "\"Mango \" + \"Pineapple\""
   ]
  },
  {
   "cell_type": "code",
   "execution_count": 33,
   "id": "6540d202",
   "metadata": {},
   "outputs": [
    {
     "name": "stdout",
     "output_type": "stream",
     "text": [
      "AI Ki Paathshala has  10000  no. of students\n"
     ]
    }
   ],
   "source": [
    "students = 10000\n",
    "\n",
    "print(\"AI Ki Paathshala has \", students , \" no. of students\")"
   ]
  },
  {
   "cell_type": "code",
   "execution_count": 34,
   "id": "dc7fc880",
   "metadata": {},
   "outputs": [
    {
     "name": "stdout",
     "output_type": "stream",
     "text": [
      "AI Ki Paathshala has 10000 no. of students\n"
     ]
    }
   ],
   "source": [
    "print(\"AI Ki Paathshala has \" + str(students) + \" no. of students\")"
   ]
  },
  {
   "cell_type": "code",
   "execution_count": null,
   "id": "92c222be",
   "metadata": {},
   "outputs": [],
   "source": [
    "no_of_cars = 10\n",
    "no_of_drivers = 5\n",
    "print(\"There are\", no_of_cars , \"cars available but only\", no_of_drivers, \"drivers available to drive cars\")"
   ]
  },
  {
   "cell_type": "code",
   "execution_count": 35,
   "id": "aa81fbba",
   "metadata": {},
   "outputs": [
    {
     "data": {
      "text/plain": [
       "'10000'"
      ]
     },
     "execution_count": 35,
     "metadata": {},
     "output_type": "execute_result"
    }
   ],
   "source": [
    "str(students)"
   ]
  },
  {
   "cell_type": "code",
   "execution_count": 36,
   "id": "8ab730d7",
   "metadata": {},
   "outputs": [
    {
     "name": "stdout",
     "output_type": "stream",
     "text": [
      "There are 10 cars available but only 5 drivers available to drive cars\n"
     ]
    }
   ],
   "source": [
    "no_of_cars = 10\n",
    "no_of_drivers = 5\n",
    "print(\"There are\", no_of_cars , \"cars available but only\", no_of_drivers, \"drivers available to drive cars\")"
   ]
  },
  {
   "cell_type": "code",
   "execution_count": 38,
   "id": "6e711a57",
   "metadata": {},
   "outputs": [
    {
     "name": "stdout",
     "output_type": "stream",
     "text": [
      "There are 100 people participating in Dance party\n"
     ]
    }
   ],
   "source": [
    "#String Formatting\n",
    "\n",
    "print(\"There are {} people participating in {} party\".format(100, \"Dance\"))"
   ]
  },
  {
   "cell_type": "code",
   "execution_count": 39,
   "id": "51890c71",
   "metadata": {},
   "outputs": [
    {
     "name": "stdout",
     "output_type": "stream",
     "text": [
      "Greetings from AI Ki Pathshala! Have a good day\n"
     ]
    }
   ],
   "source": [
    "# f-string\n",
    "a = \"AI Ki Pathshala\"\n",
    "b = \"good\"\n",
    "print(f\"Greetings from {a}! Have a {b} day\")"
   ]
  },
  {
   "cell_type": "code",
   "execution_count": 40,
   "id": "c658c640",
   "metadata": {},
   "outputs": [
    {
     "name": "stdout",
     "output_type": "stream",
     "text": [
      "Greetings from good! Have a AI Ki Pathshala day\n"
     ]
    }
   ],
   "source": [
    "print(f\"Greetings from {b}! Have a {a} day\")"
   ]
  },
  {
   "cell_type": "code",
   "execution_count": 41,
   "id": "5591eab0",
   "metadata": {},
   "outputs": [
    {
     "ename": "SyntaxError",
     "evalue": "f-string: empty expression not allowed (1027680187.py, line 1)",
     "output_type": "error",
     "traceback": [
      "\u001b[0;36m  Cell \u001b[0;32mIn[41], line 1\u001b[0;36m\u001b[0m\n\u001b[0;31m    print(f\"Greetings from {b}! Have a {} day\")\u001b[0m\n\u001b[0m          ^\u001b[0m\n\u001b[0;31mSyntaxError\u001b[0m\u001b[0;31m:\u001b[0m f-string: empty expression not allowed\n"
     ]
    }
   ],
   "source": [
    "print(f\"Greetings from {b}! Have a {} day\")"
   ]
  },
  {
   "cell_type": "code",
   "execution_count": 43,
   "id": "89ffb459",
   "metadata": {},
   "outputs": [
    {
     "ename": "NameError",
     "evalue": "name 'kite' is not defined",
     "output_type": "error",
     "traceback": [
      "\u001b[0;31m---------------------------------------------------------------------------\u001b[0m",
      "\u001b[0;31mNameError\u001b[0m                                 Traceback (most recent call last)",
      "Cell \u001b[0;32mIn[43], line 1\u001b[0m\n\u001b[0;32m----> 1\u001b[0m \u001b[38;5;28mprint\u001b[39m(\u001b[38;5;124mf\u001b[39m\u001b[38;5;124m\"\u001b[39m\u001b[38;5;124mGreetings from \u001b[39m\u001b[38;5;132;01m{\u001b[39;00mb\u001b[38;5;132;01m}\u001b[39;00m\u001b[38;5;124m! Have a \u001b[39m\u001b[38;5;132;01m{\u001b[39;00mkite\u001b[38;5;132;01m}\u001b[39;00m\u001b[38;5;124m day\u001b[39m\u001b[38;5;124m\"\u001b[39m)\n",
      "\u001b[0;31mNameError\u001b[0m: name 'kite' is not defined"
     ]
    }
   ],
   "source": [
    "print(f\"Greetings from {b}! Have a {kite} day\")"
   ]
  },
  {
   "cell_type": "code",
   "execution_count": 52,
   "id": "647559cd",
   "metadata": {},
   "outputs": [
    {
     "data": {
      "text/plain": [
       "'I want to go For movie'"
      ]
     },
     "execution_count": 52,
     "metadata": {},
     "output_type": "execute_result"
    }
   ],
   "source": [
    "'{0} {1} {2} {3} {4} {5}'.format('I', 'want', 'to', 'go', 'For', 'movie')"
   ]
  },
  {
   "cell_type": "code",
   "execution_count": 53,
   "id": "6fcabce4",
   "metadata": {},
   "outputs": [
    {
     "data": {
      "text/plain": [
       "'movie want go to For I'"
      ]
     },
     "execution_count": 53,
     "metadata": {},
     "output_type": "execute_result"
    }
   ],
   "source": [
    "'{5} {1} {3} {2} {4} {0}'.format('I', 'want', 'to', 'go', 'For', 'movie')"
   ]
  },
  {
   "cell_type": "code",
   "execution_count": 54,
   "id": "b488a058",
   "metadata": {},
   "outputs": [
    {
     "name": "stdout",
     "output_type": "stream",
     "text": [
      "Enter your name : Anup\n"
     ]
    },
    {
     "data": {
      "text/plain": [
       "'Anup'"
      ]
     },
     "execution_count": 54,
     "metadata": {},
     "output_type": "execute_result"
    }
   ],
   "source": [
    "# Input function\n",
    "input(\"Enter your name : \")\n"
   ]
  },
  {
   "cell_type": "code",
   "execution_count": 55,
   "id": "41387cc4",
   "metadata": {},
   "outputs": [
    {
     "name": "stdout",
     "output_type": "stream",
     "text": [
      "Enter your Salary: 1000\n"
     ]
    },
    {
     "data": {
      "text/plain": [
       "'1000'"
      ]
     },
     "execution_count": 55,
     "metadata": {},
     "output_type": "execute_result"
    }
   ],
   "source": [
    "input(\"Enter your Salary: \")"
   ]
  },
  {
   "cell_type": "code",
   "execution_count": 56,
   "id": "b6bbde58",
   "metadata": {},
   "outputs": [
    {
     "name": "stdout",
     "output_type": "stream",
     "text": [
      "Enter your name : Anup Jha\n",
      "Your name is  Anup Jha\n"
     ]
    }
   ],
   "source": [
    "name = input(\"Enter your name : \")\n",
    "print(\"Your name is \", name)"
   ]
  },
  {
   "cell_type": "code",
   "execution_count": null,
   "id": "cb92a55e",
   "metadata": {},
   "outputs": [],
   "source": [
    "# Add two number by taking input from the user and then printing its value"
   ]
  },
  {
   "cell_type": "code",
   "execution_count": 57,
   "id": "b662723b",
   "metadata": {},
   "outputs": [
    {
     "name": "stdout",
     "output_type": "stream",
     "text": [
      "Enter your roll no :321\n",
      "321\n",
      "<class 'str'>\n"
     ]
    }
   ],
   "source": [
    "# input() will always return string\n",
    "\n",
    "roll_no = input(\"Enter your roll no :\")\n",
    "print(roll_no)\n",
    "print(type(roll_no))"
   ]
  },
  {
   "cell_type": "code",
   "execution_count": 58,
   "id": "1df9c640",
   "metadata": {},
   "outputs": [
    {
     "name": "stdout",
     "output_type": "stream",
     "text": [
      "Enter first value :10\n",
      "Enter second value :30\n",
      "40\n"
     ]
    }
   ],
   "source": [
    "a = int(input(\"Enter first value :\"))\n",
    "b = int(input(\"Enter second value :\"))\n",
    "print(a + b)"
   ]
  },
  {
   "cell_type": "code",
   "execution_count": 59,
   "id": "11da617a",
   "metadata": {},
   "outputs": [
    {
     "name": "stdout",
     "output_type": "stream",
     "text": [
      "Enter first value :100\n",
      "Enter second value :50\n",
      "10050\n"
     ]
    }
   ],
   "source": [
    "a = (input(\"Enter first value :\"))\n",
    "b = (input(\"Enter second value :\"))\n",
    "print(a + b)"
   ]
  },
  {
   "cell_type": "code",
   "execution_count": 60,
   "id": "3eb2add0",
   "metadata": {},
   "outputs": [
    {
     "name": "stdout",
     "output_type": "stream",
     "text": [
      "Enter first value: 10\n",
      "Enter second value: 67\n",
      "77\n"
     ]
    }
   ],
   "source": [
    "a = int(input(\"Enter first value: \"))\n",
    "b = int(input(\"Enter second value: \"))\n",
    "print(a+b)"
   ]
  }
 ],
 "metadata": {
  "kernelspec": {
   "display_name": "Python 3 (ipykernel)",
   "language": "python",
   "name": "python3"
  },
  "language_info": {
   "codemirror_mode": {
    "name": "ipython",
    "version": 3
   },
   "file_extension": ".py",
   "mimetype": "text/x-python",
   "name": "python",
   "nbconvert_exporter": "python",
   "pygments_lexer": "ipython3",
   "version": "3.11.4"
  }
 },
 "nbformat": 4,
 "nbformat_minor": 5
}
